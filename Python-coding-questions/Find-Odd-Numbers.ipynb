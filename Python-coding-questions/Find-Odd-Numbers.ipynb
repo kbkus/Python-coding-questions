{
 "metadata": {
  "language_info": {
   "codemirror_mode": {
    "name": "ipython",
    "version": 3
   },
   "file_extension": ".py",
   "mimetype": "text/x-python",
   "name": "python",
   "nbconvert_exporter": "python",
   "pygments_lexer": "ipython3",
   "version": "3.7.1-final"
  },
  "orig_nbformat": 2,
  "kernelspec": {
   "name": "python3",
   "display_name": "Python 3.7.1 64-bit",
   "metadata": {
    "interpreter": {
     "hash": "398dc28c06ad810e77de546bbdfa897a6ee0b83e59a5207339dda01a7843e01d"
    }
   }
  }
 },
 "nbformat": 4,
 "nbformat_minor": 2,
 "cells": [
  {
   "cell_type": "code",
   "execution_count": 1,
   "metadata": {},
   "outputs": [
    {
     "output_type": "execute_result",
     "data": {
      "text/plain": [
       "[11, 13, 15, 17, 19, 21, 23]"
      ]
     },
     "metadata": {},
     "execution_count": 1
    }
   ],
   "source": [
    "def oddNumbers(l, r):\n",
    "  # print all odd numbers between l and r, inclusive\n",
    "  # list of nums to return\n",
    "  lst = []\n",
    "\n",
    "  if l % 2 == 0:\n",
    "    if r % 2 == 0:\n",
    "      for i in range(l+1,r,2):\n",
    "        lst.append(i)\n",
    "    else:\n",
    "      for i in range(l+1,r+1,2):\n",
    "        lst.append(i)\n",
    "\n",
    "  else:\n",
    "    if r % 2 == 0:\n",
    "      for i in range(l, r, 2):\n",
    "        lst.append(i)\n",
    "    else:\n",
    "      for i in range(l, r+1,2):\n",
    "        lst.append(i)\n",
    "\n",
    "  return lst\n",
    "\n",
    "oddNumbers(10,23)"
   ]
  },
  {
   "cell_type": "code",
   "execution_count": null,
   "metadata": {},
   "outputs": [],
   "source": []
  }
 ]
}