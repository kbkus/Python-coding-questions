{
 "metadata": {
  "language_info": {
   "codemirror_mode": {
    "name": "ipython",
    "version": 3
   },
   "file_extension": ".py",
   "mimetype": "text/x-python",
   "name": "python",
   "nbconvert_exporter": "python",
   "pygments_lexer": "ipython3",
   "version": "3.7.1-final"
  },
  "orig_nbformat": 2,
  "kernelspec": {
   "name": "python3",
   "display_name": "Python 3.7.1 64-bit",
   "metadata": {
    "interpreter": {
     "hash": "398dc28c06ad810e77de546bbdfa897a6ee0b83e59a5207339dda01a7843e01d"
    }
   }
  }
 },
 "nbformat": 4,
 "nbformat_minor": 2,
 "cells": [
  {
   "source": [
    "You are given an unordered array consisting of consecutive integers  [1, 2, 3, ..., n] without any duplicates. You are allowed to swap any two elements. You need to find the minimum number of swaps required to sort the array in ascending order."
   ],
   "cell_type": "markdown",
   "metadata": {}
  },
  {
   "cell_type": "code",
   "execution_count": 35,
   "metadata": {},
   "outputs": [
    {
     "output_type": "stream",
     "name": "stdout",
     "text": [
      "[1, 3, 5, 2, 4, 6, 7]\n3 1\n[1, 5, 3, 2, 4, 6, 7]\n5 1\n[1, 4, 3, 2, 5, 6, 7]\n4 1\n[1, 2, 3, 4, 5, 6, 7]\n"
     ]
    },
    {
     "output_type": "execute_result",
     "data": {
      "text/plain": [
       "3"
      ]
     },
     "metadata": {},
     "execution_count": 35
    }
   ],
   "source": [
    "def minimumSwaps(arr):\n",
    "    # assume list of integers begins at 1\n",
    "    # initiate swap to 0\n",
    "    swap = 0\n",
    "    print(arr)\n",
    "    for i in range(len(arr)):\n",
    "        for pos, val in enumerate(arr):\n",
    "            # if the value minus 1 (sorted position) does not equal\n",
    "            # its current position, move it to proper position\n",
    "            if val-1 != pos:\n",
    "                # swap current value to its designated position\n",
    "                arr.insert(val-2, arr.pop(pos))\n",
    "                arr.insert(pos, arr.pop(val-1))\n",
    "                swap += 1\n",
    "                break\n",
    "\n",
    "    return swap\n",
    "\n",
    "\n",
    "test = [2,3,4,1,5]\n",
    "test2 = [1,3,5,2,4,6,7]\n",
    "minimumSwaps(test2)"
   ]
  },
  {
   "source": [
    "My answer is not optimized as it takes O(n^2) time"
   ],
   "cell_type": "markdown",
   "metadata": {}
  },
  {
   "cell_type": "code",
   "execution_count": null,
   "metadata": {},
   "outputs": [],
   "source": []
  }
 ]
}