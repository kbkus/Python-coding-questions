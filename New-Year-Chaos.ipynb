{
 "metadata": {
  "language_info": {
   "codemirror_mode": {
    "name": "ipython",
    "version": 3
   },
   "file_extension": ".py",
   "mimetype": "text/x-python",
   "name": "python",
   "nbconvert_exporter": "python",
   "pygments_lexer": "ipython3",
   "version": "3.7.1-final"
  },
  "orig_nbformat": 2,
  "kernelspec": {
   "name": "python3",
   "display_name": "Python 3.7.1 64-bit",
   "metadata": {
    "interpreter": {
     "hash": "398dc28c06ad810e77de546bbdfa897a6ee0b83e59a5207339dda01a7843e01d"
    }
   }
  }
 },
 "nbformat": 4,
 "nbformat_minor": 2,
 "cells": [
  {
   "source": [
    "New Year Chaos\n",
    "\n",
    "It is New Year's Day and people are in line for the Wonderland rollercoaster ride. Each person wears a sticker indicating their initial position in the queue from  to . Any person can bribe the person directly in front of them to swap positions, but they still wear their original sticker. One person can bribe at most two others.\n",
    "\n",
    "Determine the minimum number of bribes that took place to get to a given queue order. Print the number of bribes, or, if anyone has bribed more than two people, print Too chaotic."
   ],
   "cell_type": "markdown",
   "metadata": {}
  },
  {
   "cell_type": "code",
   "execution_count": 20,
   "metadata": {},
   "outputs": [
    {
     "output_type": "execute_result",
     "data": {
      "text/plain": [
       "7"
      ]
     },
     "metadata": {},
     "execution_count": 20
    }
   ],
   "source": [
    "def minimumBribes(q):\n",
    "    # determine if input list is already sorted\n",
    "    sorted = q.copy()\n",
    "    sorted.sort()\n",
    "    if q == sorted:\n",
    "        # print 0 swaps if list is already sorted\n",
    "        print(0)\n",
    "    # if list is not sorted\n",
    "    else:\n",
    "        # initiate the number of swaps to 0\n",
    "        moves = 0\n",
    "        # iterate through list, q, and the index positions\n",
    "        for pos, val in enumerate(q):\n",
    "            # Check if the sorted position (val-1) is greater than \n",
    "            # (to the right of) the current position.\n",
    "            if (val-1) - pos > 2:\n",
    "                # if greater than 2 then return too chaotic\n",
    "                return \"Too chaotic\"\n",
    "            # check if the value directly in front (left) of val is greater than val\n",
    "            for j in range(max(0, val-2), pos):\n",
    "                if q[j] > val:\n",
    "                    moves += 1\n",
    "    return moves\n",
    "        \n",
    "\n",
    "test = [1, 2, 5, 3, 7, 8, 6, 4]\n",
    "test2 = [1,2,3,4]\n",
    "\n",
    "minimumBribes(test)"
   ]
  }
 ]
}