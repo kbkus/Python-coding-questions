{
 "metadata": {
  "language_info": {
   "codemirror_mode": {
    "name": "ipython",
    "version": 3
   },
   "file_extension": ".py",
   "mimetype": "text/x-python",
   "name": "python",
   "nbconvert_exporter": "python",
   "pygments_lexer": "ipython3",
   "version": "3.7.1-final"
  },
  "orig_nbformat": 2,
  "kernelspec": {
   "name": "python3",
   "display_name": "Python 3.7.1 64-bit",
   "metadata": {
    "interpreter": {
     "hash": "398dc28c06ad810e77de546bbdfa897a6ee0b83e59a5207339dda01a7843e01d"
    }
   }
  }
 },
 "nbformat": 4,
 "nbformat_minor": 2,
 "cells": [
  {
   "source": [
    "You are given an unordered array consisting of consecutive integers  [1, 2, 3, ..., n] without any duplicates. You are allowed to swap any two elements. You need to find the minimum number of swaps required to sort the array in ascending order."
   ],
   "cell_type": "markdown",
   "metadata": {}
  },
  {
   "cell_type": "code",
   "execution_count": 2,
   "metadata": {},
   "outputs": [
    {
     "output_type": "stream",
     "name": "stdout",
     "text": [
      "True\n[1, 2, 3, 4, 5, 6, 7]\n[1, 2, 3, 4, 5, 6, 7]\n"
     ]
    },
    {
     "output_type": "execute_result",
     "data": {
      "text/plain": [
       "0"
      ]
     },
     "metadata": {},
     "execution_count": 2
    }
   ],
   "source": [
    "def minimumSwaps(arr):\n",
    "    # assume list of integers begins at 1\n",
    "    # initiate swap to 0\n",
    "    swap = 0\n",
    "    print(arr)\n",
    "    for i in range(len(arr)):\n",
    "        for pos, val in enumerate(arr):\n",
    "            # if the value minus 1 (sorted position) does not equal\n",
    "            # its current position, move it to proper position\n",
    "            if val-1 != pos:\n",
    "                # swap current value to its designated position\n",
    "                arr.insert(val-2, arr.pop(pos))\n",
    "                arr.insert(pos, arr.pop(val-1))\n",
    "                swap += 1\n",
    "                break\n",
    "\n",
    "    return swap\n",
    "\n",
    "\n",
    "test = [2,3,4,1,5]\n",
    "test2 = [1,3,5,2,4,6,7]\n",
    "\n",
    "minimumSwaps(test2)"
   ]
  },
  {
   "source": [
    "My answer is not optimized as it takes O(n^2) time"
   ],
   "cell_type": "markdown",
   "metadata": {}
  },
  {
   "cell_type": "code",
   "execution_count": 15,
   "metadata": {},
   "outputs": [
    {
     "output_type": "stream",
     "name": "stdout",
     "text": [
      "[1, 2, 3, 4, 5, 9]\n"
     ]
    }
   ],
   "source": [
    "def merge(arr, left_index, right_index, middle):\n",
    "    # make copies of both arrays we're trying to merge\n",
    "    left_copy = arr[left_index: middle+1]\n",
    "    right_copy = arr[middle+1:right_index+1]\n",
    "\n",
    "    # Initial values for variables that we use to keep\n",
    "    # track of where we are in each array\n",
    "    left_copy_index = 0\n",
    "    right_copy_index = 0\n",
    "    sorted_index = left_index\n",
    "\n",
    "    # go through both copies until we run out of elements in one\n",
    "    while left_copy_index < len(left_copy) and right_copy_index < len(right_copy):\n",
    "        \n",
    "        # If left_copy has the smaller element, put it in the sorted\n",
    "        # part and then move forard in the left_copy (by increasing the pointer)\n",
    "        if left_copy[left_copy_index] <= right_copy[right_copy_index]:\n",
    "            arr[sorted_index] = left_copy[left_copy_index]\n",
    "            left_copy_index = left_copy_index + 1\n",
    "        # opposite from above\n",
    "        else:\n",
    "            arr[sorted_index] = right_copy[right_copy_index]\n",
    "            right_copy_index = right_copy_index + 1\n",
    "\n",
    "        # regardless of which copy list the element came from\n",
    "        # move forward in the sorted part\n",
    "        sorted_index = sorted_index + 1\n",
    "\n",
    "    # When either the left copy or right copy run out of elements\n",
    "    # go through the remaining elements and add them\n",
    "    while left_copy_index < len(left_copy):\n",
    "        arr[sorted_index] = left_copy[left_copy_index]\n",
    "        left_copy_index = left_copy_index + 1\n",
    "        sorted_index = sorted_index + 1\n",
    "    \n",
    "    while right_copy_index < len(right_copy):\n",
    "        arr[sorted_index] = right_copy[right_copy_index]\n",
    "        right_copy_index = right_copy_index + 1\n",
    "        sorted_index = sorted_index + 1\n",
    "\n",
    "\n",
    "def merge_sort(arr, left_index, right_index):\n",
    "    if left_index >= right_index:\n",
    "        return\n",
    "    \n",
    "    middle = (left_index + right_index)//2\n",
    "    merge_sort(arr, left_index, middle)\n",
    "    merge_sort(arr, middle+1, right_index)\n",
    "    merge(arr, left_index, right_index, middle)\n",
    "\n",
    "test = [2,3,4,1,5,9]\n",
    "\n",
    "merge_sort(test, 0, len(test)-1)\n",
    "\n",
    "print(test)"
   ]
  }
 ]
}